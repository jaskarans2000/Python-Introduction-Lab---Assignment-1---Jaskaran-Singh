{
 "cells": [
  {
   "cell_type": "markdown",
   "metadata": {},
   "source": [
    "# Python Introduction Lab\n",
    "## Assignment 1\n",
    "### Jaskaran Singh - 05113202717 - CSE-1( 8th Semester )"
   ]
  },
  {
   "cell_type": "markdown",
   "metadata": {},
   "source": [
    "Q1. Create a program that asks the user to enter their name and their age. Print out a\n",
    "message addressed to them that tells them the year that they will turn 100 years old.\n",
    "Extras:\n",
    "1. Add on to the previous program by asking the user for another number and\n",
    "printing out that many copies of the previous message.\n",
    "2. Print out that many copies of the previous message on separate lines. (Hint:\n",
    "the string \"\\n is the same as pressing the ENTER button)"
   ]
  },
  {
   "cell_type": "code",
   "execution_count": 8,
   "metadata": {},
   "outputs": [
    {
     "name": "stdout",
     "output_type": "stream",
     "text": [
      "Enter your name : Jaskaran Singh\n",
      "Enter your age : 21\n",
      "Jaskaran Singh will be 100 years old in 2100.\n",
      "\n",
      "*******Extras******\n",
      "\n",
      "How many copies of previous message do you need? : 5\n",
      "Jaskaran Singh will be 100 years old in 2100.\n",
      "Jaskaran Singh will be 100 years old in 2100.\n",
      "Jaskaran Singh will be 100 years old in 2100.\n",
      "Jaskaran Singh will be 100 years old in 2100.\n",
      "Jaskaran Singh will be 100 years old in 2100.\n",
      "\n"
     ]
    }
   ],
   "source": [
    "from datetime import date\n",
    "name=input(\"Enter your name : \")\n",
    "age=int(input(\"Enter your age : \"))\n",
    "todays_date = date.today()\n",
    "current_year=todays_date.year\n",
    "year=current_year-age+100\n",
    "result=name+\" will be 100 years old in \"+str(year)+\".\\n\"\n",
    "print(result)\n",
    "\n",
    "print(\"*******Extras******\\n\")\n",
    "noOfCopies=int(input(\"How many copies of previous message do you need? : \"))\n",
    "print(result*noOfCopies)\n"
   ]
  },
  {
   "cell_type": "markdown",
   "metadata": {},
   "source": [
    "Q2. Take a list, say for example this one:\n",
    "a = [1, 1, 2, 3, 5, 8, 13, 21, 34, 55, 89]\n",
    "and write a program that prints out all the elements of the list that are less than 5.\n",
    "Extras:\n",
    "1. Instead of printing the elements one by one, make a new list that has all the\n",
    "elements less than 5 from this list in it and print out this new list.\n",
    "2. Write this in one line of Python.\n",
    "3. Ask the user for a number and return a list that contains only elements from the\n",
    "original list a that are smaller than that number given by the user."
   ]
  },
  {
   "cell_type": "code",
   "execution_count": 19,
   "metadata": {},
   "outputs": [
    {
     "name": "stdout",
     "output_type": "stream",
     "text": [
      "Printing elements in the list : \n",
      "1\n",
      "1\n",
      "2\n",
      "3\n",
      "*******Extras******\n",
      "\n",
      "Adding elements in the list and printing : \n",
      "[1, 1, 2, 3] \n",
      "\n",
      "Adding elements in list in one line and printing : \n",
      "[1, 1, 2, 3] \n",
      "\n",
      "Enter the number : 7\n",
      "[1, 1, 2, 3, 5] \n",
      "\n"
     ]
    }
   ],
   "source": [
    "a = [1, 1, 2, 3, 5, 8, 13, 21, 34, 55, 89] \n",
    "print(\"Printing elements in the list : \")\n",
    "for elem in a:\n",
    "    if elem<5:\n",
    "        print(elem)\n",
    "\n",
    "print(\"*******Extras******\\n\")\n",
    "b=list()\n",
    "print(\"Adding elements in the list and printing : \")\n",
    "for elem in a:\n",
    "    if elem<5:\n",
    "        b.append(elem)\n",
    "print(b,\"\\n\")\n",
    "\n",
    "print(\"Adding elements in list in one line and printing : \")\n",
    "new_list=[elem for elem in a if elem<5]\n",
    "print(new_list,\"\\n\")\n",
    "\n",
    "num=int(input(\"Enter the number : \"))\n",
    "new_list2=[elem for elem in a if elem<num]\n",
    "print(new_list2,\"\\n\")"
   ]
  },
  {
   "cell_type": "markdown",
   "metadata": {},
   "source": [
    "Q3. Write a program that asks the user how many Fibonacci numbers to generate and\n",
    "then generates them. Take this opportunity to think about how you can use functions.\n",
    "Make sure to ask the user to enter the number of numbers in the sequence to\n",
    "generate.(Hint: The Fibonacci seqence is a sequence of numbers where the next number \n",
    "in the sequence is the sum of the previous two numbers in the sequence. The sequence\n",
    "looks like this: 1, 1, 2, 3, 5, 8, 13, ...)"
   ]
  },
  {
   "cell_type": "code",
   "execution_count": 20,
   "metadata": {},
   "outputs": [
    {
     "name": "stdout",
     "output_type": "stream",
     "text": [
      "Enter number of terms : 6\n",
      "0\n",
      "1\n",
      "1\n",
      "2\n",
      "3\n",
      "5\n"
     ]
    }
   ],
   "source": [
    "def fibonacci(n):\n",
    "    a,b=0,1\n",
    "    if n<=0:\n",
    "        print(\"Please enter positive number greater than 0.\")\n",
    "    else:\n",
    "        count=0\n",
    "        while count<n:\n",
    "            print(a)\n",
    "            temp=a+b\n",
    "            a=b\n",
    "            b=temp\n",
    "            count+=1\n",
    "            \n",
    "n=int(input(\"Enter number of terms : \"))\n",
    "fibonacci(n)"
   ]
  },
  {
   "cell_type": "markdown",
   "metadata": {},
   "source": [
    "Q4. Write a program (function!) that takes a list and returns a new list that contains all the\n",
    "elements of the first list minus all the duplicates.\n",
    "Extras:\n",
    "\n",
    "● Write two different functions to do this - \n",
    "one using a loop and constructing a list, and another using sets."
   ]
  },
  {
   "cell_type": "code",
   "execution_count": 22,
   "metadata": {},
   "outputs": [
    {
     "name": "stdout",
     "output_type": "stream",
     "text": [
      "Enter the length of the list: 5\n",
      "Enter elements in list : \n",
      "Enter 0th element : 1\n",
      "Enter 1th element : 2\n",
      "Enter 2th element : 3\n",
      "Enter 3th element : 2\n",
      "Enter 4th element : 1\n",
      "[1, 2, 3, 2, 1]\n",
      "Function using loop: [1, 2, 3]\n",
      "Function using set: [1, 2, 3]\n"
     ]
    }
   ],
   "source": [
    "def remove_duplicate_f1(l):\n",
    "    new_list = []\n",
    "    for i in l:\n",
    "        if i not in new_list:\n",
    "            new_list.append(i)\n",
    "    return new_list\n",
    "\n",
    "def remove_duplicate_f2(x):\n",
    "    return list(set(x))\n",
    "\n",
    "user_list=[]\n",
    "length = int(input(\"Enter the length of the list: \"))\n",
    "print(\"Enter elements in list : \")\n",
    "for i in range(length):\n",
    "    ele = int(input(\"Enter \"+str(i)+\"th element : \"))\n",
    "    user_list.append(ele)\n",
    "    \n",
    "print(user_list)\n",
    "print (\"Function using loop: \"+str(remove_duplicate_f1(user_list)))\n",
    "print (\"Function using set: \"+str(remove_duplicate_f2(user_list)))"
   ]
  },
  {
   "cell_type": "markdown",
   "metadata": {},
   "source": [
    "Q5. Ask the user for a number and determine whether the number is prime or not. (For\n",
    "those who have forgotten, a prime number is a number that has no divisors.). Use\n",
    "functions"
   ]
  },
  {
   "cell_type": "code",
   "execution_count": 26,
   "metadata": {},
   "outputs": [
    {
     "name": "stdout",
     "output_type": "stream",
     "text": [
      "Enter the number to check whether it is prime or not: 7\n",
      "7 is a prime number.\n"
     ]
    }
   ],
   "source": [
    "import math\n",
    "def isPrime(num):\n",
    "    flag = False\n",
    "    if num > 2:\n",
    "        for i in range(2, int(math.sqrt(num))+1):\n",
    "            if (num % i) == 0:\n",
    "                flag = True\n",
    "                break\n",
    "    elif num == 2:\n",
    "        flag = True\n",
    "    else:\n",
    "        print(\"Enter valid number.\")\n",
    "        return\n",
    "    if flag:\n",
    "        print(num, \"is not a prime number.\")\n",
    "    else:\n",
    "        print(num, \"is a prime number.\")\n",
    "        \n",
    "num = int(input('Enter the number to check whether it is prime or not: '))\n",
    "isPrime(num)"
   ]
  }
 ],
 "metadata": {
  "kernelspec": {
   "display_name": "Python 3",
   "language": "python",
   "name": "python3"
  },
  "language_info": {
   "codemirror_mode": {
    "name": "ipython",
    "version": 3
   },
   "file_extension": ".py",
   "mimetype": "text/x-python",
   "name": "python",
   "nbconvert_exporter": "python",
   "pygments_lexer": "ipython3",
   "version": "3.8.3"
  }
 },
 "nbformat": 4,
 "nbformat_minor": 4
}
